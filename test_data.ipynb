{
 "cells": [
  {
   "cell_type": "code",
   "execution_count": 7,
   "metadata": {},
   "outputs": [
    {
     "name": "stdout",
     "output_type": "stream",
     "text": [
      "dict_keys(['title', 'title_detail', 'summary', 'summary_detail', 'links', 'link', 'id', 'guidislink', 'tags', 'authors', 'author', 'author_detail', 'published', 'published_parsed', 'updated', 'updated_parsed'])\n"
     ]
    }
   ],
   "source": [
    "import feedparser\n",
    "from pprint import pformat\n",
    "\n",
    "response = feedparser.parse('https://medium.com/feed/tag/life')\n",
    "data=response.entries[0]\n",
    "\n",
    "print(data.keys())"
   ]
  },
  {
   "cell_type": "code",
   "execution_count": 8,
   "metadata": {},
   "outputs": [
    {
     "name": "stdout",
     "output_type": "stream",
     "text": [
      "{'author': 'anarchymaid',\n",
      " 'author_detail': {'name': 'anarchymaid'},\n",
      " 'authors': [{'name': 'anarchymaid'}],\n",
      " 'guidislink': False,\n",
      " 'id': 'https://medium.com/p/bc717a7b4f7d',\n",
      " 'link': 'https://medium.com/journal-kita/the-art-of-being-seen-bc717a7b4f7d?source=rss------life-5',\n",
      " 'links': [{'href': 'https://medium.com/journal-kita/the-art-of-being-seen-bc717a7b4f7d?source=rss------life-5',\n",
      "            'rel': 'alternate',\n",
      "            'type': 'text/html'}],\n",
      " 'published': 'Sun, 20 Oct 2024 16:04:28 GMT',\n",
      " 'published_parsed': time.struct_time(tm_year=2024, tm_mon=10, tm_mday=20, tm_hour=16, tm_min=4, tm_sec=28, tm_wday=6, tm_yday=294, tm_isdst=0),\n",
      " 'summary': '<div class=\"medium-feed-item\"><p class=\"medium-feed-image\"><a '\n",
      "            'href=\"https://medium.com/journal-kita/the-art-of-being-seen-bc717a7b4f7d?source=rss------life-5\"><img '\n",
      "            'src=\"https://cdn-images-1.medium.com/max/640/1*HSrqe_sbJC1lhrv5Tf4d4g.jpeg\" '\n",
      "            'width=\"640\" /></a></p><p class=\"medium-feed-snippet\">He stood on '\n",
      "            'the rooftop, the city&#x2019;s skyline stretching endlessly '\n",
      "            'before him, bathed in the amber glow of the setting sun. The wind '\n",
      "            'tugged&#x2026;</p><p class=\"medium-feed-link\"><a '\n",
      "            'href=\"https://medium.com/journal-kita/the-art-of-being-seen-bc717a7b4f7d?source=rss------life-5\">Continue '\n",
      "            'reading on Journal Kita »</a></p></div>',\n",
      " 'summary_detail': {'base': 'https://medium.com/feed/tag/life',\n",
      "                    'language': None,\n",
      "                    'type': 'text/html',\n",
      "                    'value': '<div class=\"medium-feed-item\"><p '\n",
      "                             'class=\"medium-feed-image\"><a '\n",
      "                             'href=\"https://medium.com/journal-kita/the-art-of-being-seen-bc717a7b4f7d?source=rss------life-5\"><img '\n",
      "                             'src=\"https://cdn-images-1.medium.com/max/640/1*HSrqe_sbJC1lhrv5Tf4d4g.jpeg\" '\n",
      "                             'width=\"640\" /></a></p><p '\n",
      "                             'class=\"medium-feed-snippet\">He stood on the '\n",
      "                             'rooftop, the city&#x2019;s skyline stretching '\n",
      "                             'endlessly before him, bathed in the amber glow '\n",
      "                             'of the setting sun. The wind '\n",
      "                             'tugged&#x2026;</p><p class=\"medium-feed-link\"><a '\n",
      "                             'href=\"https://medium.com/journal-kita/the-art-of-being-seen-bc717a7b4f7d?source=rss------life-5\">Continue '\n",
      "                             'reading on Journal Kita »</a></p></div>'},\n",
      " 'tags': [{'label': None, 'scheme': None, 'term': 'musings'},\n",
      "          {'label': None, 'scheme': None, 'term': 'life'},\n",
      "          {'label': None, 'scheme': None, 'term': 'journal-kita'},\n",
      "          {'label': None, 'scheme': None, 'term': 'love'}],\n",
      " 'title': 'The Art of Being Seen',\n",
      " 'title_detail': {'base': 'https://medium.com/feed/tag/life',\n",
      "                  'language': None,\n",
      "                  'type': 'text/plain',\n",
      "                  'value': 'The Art of Being Seen'},\n",
      " 'updated': '2024-10-20T16:04:28.451Z',\n",
      " 'updated_parsed': time.struct_time(tm_year=2024, tm_mon=10, tm_mday=20, tm_hour=16, tm_min=4, tm_sec=28, tm_wday=6, tm_yday=294, tm_isdst=0)}\n"
     ]
    }
   ],
   "source": [
    "print(pformat(data))"
   ]
  },
  {
   "cell_type": "code",
   "execution_count": null,
   "metadata": {},
   "outputs": [],
   "source": []
  }
 ],
 "metadata": {
  "kernelspec": {
   "display_name": "env",
   "language": "python",
   "name": "python3"
  },
  "language_info": {
   "codemirror_mode": {
    "name": "ipython",
    "version": 3
   },
   "file_extension": ".py",
   "mimetype": "text/x-python",
   "name": "python",
   "nbconvert_exporter": "python",
   "pygments_lexer": "ipython3",
   "version": "3.11.9"
  }
 },
 "nbformat": 4,
 "nbformat_minor": 2
}
